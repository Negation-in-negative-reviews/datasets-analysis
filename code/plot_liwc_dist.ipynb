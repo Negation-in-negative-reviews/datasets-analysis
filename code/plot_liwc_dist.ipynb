{
 "cells": [
  {
   "cell_type": "code",
   "execution_count": 1,
   "metadata": {},
   "outputs": [
    {
     "name": "stderr",
     "output_type": "stream",
     "text": [
      "/home/madhu/dataset-analysis-new/code/seaborn_plot_util.py:10: FutureWarning: Passing a negative integer is deprecated in version 1.0 and will not be supported in future version. Instead, use None to not limit the column width.\n",
      "  pd.set_option('display.max_colwidth', -1)\n"
     ]
    }
   ],
   "source": [
    "import seaborn_plot_util\n",
    "%matplotlib notebook\n",
    "import re\n",
    "import pickle\n",
    "import numpy as np\n",
    "import seaborn as sns\n",
    "import pandas as pd\n",
    "import spacy\n",
    "from matplotlib import pyplot as plt\n",
    "import sys\n",
    "from scipy import stats\n",
    "import seaborn_plot_util\n",
    "import pprint\n",
    "import json\n",
    "import os\n",
    "from pathlib import Path\n",
    "import util\n",
    "from importlib import reload\n",
    "\n",
    "pp = pprint.PrettyPrinter(indent=4)\n",
    "myprint = pp.pprint\n",
    "\n",
    "nlp = spacy.load(\"en_core_web_md\")"
   ]
  },
  {
   "cell_type": "code",
   "execution_count": 16,
   "metadata": {},
   "outputs": [],
   "source": [
    "pickle_save_dir = os.path.join(saves_dir, \"all\")\n",
    "Path(pickle_save_dir).mkdir(parents=True, exist_ok=True)\n",
    "plot_data = pickle.load(open(os.path.join(pickle_save_dir, \"liwc_dist_data.pickle\"), \"rb\"))  \n",
    "reload(seaborn_plot_util)\n",
    "plot_categories = [\n",
    "    [\"posemo\",\"negemo\"], \n",
    "    [\"anger\", \"sad\"]\n",
    "]\n",
    "for analysis in analysis_types[2:]:\n",
    "    plot_data_df = pd.DataFrame(plot_data[analysis])\n",
    "    plot_data_pos_neg_amz = []\n",
    "    plot_data_pos_neg_non_amz = []\n",
    "    colors =[\n",
    "        [(114/255, 200/255, 117/255),(209/255, 68/255, 68/255)]*2,\n",
    "        [(67/255, 144/255, 188/255),(141/255, 190/255, 216/255)]*2,\n",
    "    ]  \n",
    "    for idx,plot_cat in enumerate(plot_categories):\n",
    "        plot_data_cat = plot_data_df[plot_data_df[\"liwc_category\"].isin(plot_cat)]\n",
    "        plot_data_cat = plot_data_cat.to_dict('records')            \n",
    "        plot_data_cat_amz, plot_data_cat_non_amz = util.filter_amazon(plot_data_cat)\n",
    "\n",
    "        seaborn_plot_util.draw_grouped_barplot_four_subbars_liwc(plot_data_cat_amz, colors[idx], \"name\", \"value\", \n",
    "            \"review category\", \n",
    "            os.path.join(saves_dir, plot_save_prefix+\"_\"+\"_\".join(plot_cat)+\"_\"+str(analysis)+\"_amz\"),\n",
    "            figsize=(15, 4), \n",
    "            position=(0.13, 0.15, 0.5, 0.8),\n",
    "#             ylim_top=None, \n",
    "            bbox_to_anchor=(1, 0.5, 0.2, 0.5),\n",
    "            liwc_cats=plot_cat,\n",
    "            amazon_data_flag=True)\n",
    "        \n",
    "        seaborn_plot_util.draw_grouped_barplot_four_subbars_liwc(plot_data_cat_non_amz, colors[idx], \"name\", \"value\", \n",
    "            \"review category\", \n",
    "            os.path.join(saves_dir, plot_save_prefix+\"_\"+\"_\".join(plot_cat)+\"_\"+str(analysis)+\"_non_amz\"),\n",
    "            figsize=(15, 4), \n",
    "            position=(0.145, 0.15, 0.49, 0.8),\n",
    "#             ylim_top=None, \n",
    "            bbox_to_anchor=(1, 0.5, 0.2, 0.5),\n",
    "            liwc_cats=plot_cat,\n",
    "            amazon_data_flag=False)\n",
    "        "
   ]
  }
 ],
 "metadata": {
  "kernelspec": {
   "display_name": "Python 3",
   "language": "python",
   "name": "python3"
  },
  "language_info": {
   "codemirror_mode": {
    "name": "ipython",
    "version": 3
   },
   "file_extension": ".py",
   "mimetype": "text/x-python",
   "name": "python",
   "nbconvert_exporter": "python",
   "pygments_lexer": "ipython3",
   "version": "3.7.6"
  }
 },
 "nbformat": 4,
 "nbformat_minor": 4
}
